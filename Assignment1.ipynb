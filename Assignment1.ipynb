{
 "cells": [
  {
   "cell_type": "markdown",
   "metadata": {},
   "source": [
    "# Assignment1"
   ]
  },
  {
   "cell_type": "markdown",
   "metadata": {},
   "source": [
    "1. Operators: *, -, /, +\n",
    "   Values: 'hello', -87.8, 6"
   ]
  },
  {
   "cell_type": "markdown",
   "metadata": {},
   "source": [
    "2. String: 'spam', variable: spam"
   ]
  },
  {
   "cell_type": "markdown",
   "metadata": {},
   "source": [
    "3. Three different data forms: int -> keep real numbers without decimal, float -> keep real numbers with decimal, complex-> Keep imaginary numbers"
   ]
  },
  {
   "cell_type": "markdown",
   "metadata": {},
   "source": [
    "4. Expression is combination of variable and operators. Ex: a + b will add two variables a and b in case it is numbers. If its string then it will concatenate two strings. a-b will substract two number variables. a*b will multiply two number varibales whereas a/b will substarct two number vaialbles.  "
   ]
  },
  {
   "cell_type": "markdown",
   "metadata": {},
   "source": [
    "5. Declaration is assigning value to a name variable. Expression is operation performed on varible(s) using some operators.\n",
    "   Assignment example like spam=10 is declaration of variable spam with value 10."
   ]
  },
  {
   "cell_type": "markdown",
   "metadata": {},
   "source": [
    "6. bacon will keep 22"
   ]
  },
  {
   "cell_type": "markdown",
   "metadata": {},
   "source": [
    "7. 'spam'+'spamspam' = 'spamspamspam' ;\n",
    "   'spam'*3 = 'spamspamspam'"
   ]
  },
  {
   "cell_type": "markdown",
   "metadata": {},
   "source": [
    "8. eggs is text without single or double quotes, so its a true variable name. \n",
    "100 is number and variable can't start with a number. its value which can be assigned to a variable."
   ]
  },
  {
   "cell_type": "markdown",
   "metadata": {},
   "source": [
    "9. To convert to int we can use function int(), to float float() and to string str()."
   ]
  },
  {
   "cell_type": "markdown",
   "metadata": {},
   "source": [
    "10. convert int to string using str() function: 'I have eaten' + str(99) + 'burritos.'"
   ]
  },
  {
   "cell_type": "code",
   "execution_count": null,
   "metadata": {},
   "outputs": [],
   "source": []
  }
 ],
 "metadata": {
  "kernelspec": {
   "display_name": "Python 3",
   "language": "python",
   "name": "python3"
  },
  "language_info": {
   "codemirror_mode": {
    "name": "ipython",
    "version": 3
   },
   "file_extension": ".py",
   "mimetype": "text/x-python",
   "name": "python",
   "nbconvert_exporter": "python",
   "pygments_lexer": "ipython3",
   "version": "3.8.3"
  }
 },
 "nbformat": 4,
 "nbformat_minor": 4
}
