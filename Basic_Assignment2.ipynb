{
 "cells": [
  {
   "cell_type": "markdown",
   "metadata": {},
   "source": [
    "# Assignment2"
   ]
  },
  {
   "cell_type": "markdown",
   "metadata": {},
   "source": [
    "1. True, False"
   ]
  },
  {
   "cell_type": "markdown",
   "metadata": {},
   "source": [
    "2. 'and', 'or', 'not' are three boolean operators."
   ]
  },
  {
   "cell_type": "markdown",
   "metadata": {},
   "source": [
    "3. True and True = True <br>\n",
    "   True and False = False <br>\n",
    "   False and True = False <br>\n",
    "   False and False = False <br>\n",
    "   True or True = True <br>\n",
    "   True or False = True <br>\n",
    "   False or True = True <br>\n",
    "   False or False = False <br>\n",
    "   not True = False <br>\n",
    "   not False = True\n"
   ]
  },
  {
   "cell_type": "markdown",
   "metadata": {},
   "source": [
    "4. (5 > 4) and (3 == 5) = False <br>\n",
    "   not (5 > 4) =False <br>\n",
    "   (5 > 4) or (3 == 5) = True <br>\n",
    "   not((5 > 4) or (3 == 5)) = False <br>\n",
    "   (True and True) and (True == False) = False <br>\n",
    "   (not False) or (not True) = True"
   ]
  },
  {
   "cell_type": "markdown",
   "metadata": {},
   "source": [
    "5. These are reference operators--> 1) : (for object[start:end:stride]), 2) . (for accessing object items and methods),3) -> (def func() -> int, will tell it will return int type)"
   ]
  },
  {
   "cell_type": "markdown",
   "metadata": {},
   "source": [
    "6. equal to, we use == operator to test if both variables has same value and it will return True and False based on value is same or different respectfully.\n",
    "  <br> = is assignment operator which assigns a value to a name Variable. Ex a = 10. Value 10 will be assigned to variable a. "
   ]
  },
  {
   "cell_type": "markdown",
   "metadata": {},
   "source": [
    "7. Condition is used to compare two values/Variables and return True and False. We use it to perform an action when a condition returns either True or False."
   ]
  },
  {
   "cell_type": "markdown",
   "metadata": {},
   "source": [
    "8. spam = 0\n",
    "if spam == 10:\n",
    "\tprint('eggs')\n",
    "\n",
    "\tif spam > 5:\n",
    "\t\tprint('bacon')\n",
    "\telse:\n",
    "\t\tprint('ham')\n",
    "\tprint('spam')\n",
    "print('spam')\n",
    "<br> \n",
    "<br> Answer: 'spam'"
   ]
  },
  {
   "cell_type": "markdown",
   "metadata": {},
   "source": [
    "9. "
   ]
  },
  {
   "cell_type": "code",
   "execution_count": 31,
   "metadata": {},
   "outputs": [
    {
     "name": "stdout",
     "output_type": "stream",
     "text": [
      "Enter integer from 1, 2 or 3:4\n",
      "Enter integer from 1, 2 or 3:5\n",
      "Enter integer from 1, 2 or 3:6\n",
      "Enter integer from 1, 2 or 3:1\n",
      "Hello\n"
     ]
    }
   ],
   "source": [
    "spam = int(input('Enter integer from 1, 2 or 3:'))\n",
    "while True:\n",
    "    if spam == 1 :\n",
    "        print('Hello')\n",
    "        break\n",
    "    elif spam == 2:\n",
    "        print('Howdy')\n",
    "        break\n",
    "    elif spam == 3:\n",
    "        print('Salutations!')\n",
    "        break\n",
    "    else:\n",
    "        spam = int(input('Enter integer from 1, 2 or 3:'))"
   ]
  },
  {
   "cell_type": "markdown",
   "metadata": {},
   "source": [
    "10. CTRL+ D"
   ]
  },
  {
   "cell_type": "markdown",
   "metadata": {},
   "source": [
    "11. break, if condition mets break will take out code out of loop. <br> continue if condition mets it will skill rest of loop code step and continue withn next loop iteration"
   ]
  },
  {
   "cell_type": "markdown",
   "metadata": {},
   "source": [
    "12. range(10), range(0,10), range(0,10,1) all are same statement"
   ]
  },
  {
   "cell_type": "markdown",
   "metadata": {},
   "source": [
    "13."
   ]
  },
  {
   "cell_type": "code",
   "execution_count": 5,
   "metadata": {},
   "outputs": [
    {
     "name": "stdout",
     "output_type": "stream",
     "text": [
      "1\n",
      "2\n",
      "3\n",
      "4\n",
      "5\n",
      "6\n",
      "7\n",
      "8\n",
      "9\n",
      "10\n"
     ]
    }
   ],
   "source": [
    "for a in range(1,11):\n",
    "    print(a)"
   ]
  },
  {
   "cell_type": "code",
   "execution_count": 2,
   "metadata": {},
   "outputs": [
    {
     "name": "stdout",
     "output_type": "stream",
     "text": [
      "1\n",
      "2\n",
      "3\n",
      "4\n",
      "5\n",
      "6\n",
      "7\n",
      "8\n",
      "9\n",
      "10\n"
     ]
    }
   ],
   "source": [
    "i=1\n",
    "while i < 11:\n",
    "    print(i)\n",
    "    i +=1"
   ]
  },
  {
   "cell_type": "markdown",
   "metadata": {},
   "source": [
    "14. if we import spam module, function bacon() will be available for calling."
   ]
  }
 ],
 "metadata": {
  "kernelspec": {
   "display_name": "Python 3",
   "language": "python",
   "name": "python3"
  },
  "language_info": {
   "codemirror_mode": {
    "name": "ipython",
    "version": 3
   },
   "file_extension": ".py",
   "mimetype": "text/x-python",
   "name": "python",
   "nbconvert_exporter": "python",
   "pygments_lexer": "ipython3",
   "version": "3.8.3"
  }
 },
 "nbformat": 4,
 "nbformat_minor": 4
}
